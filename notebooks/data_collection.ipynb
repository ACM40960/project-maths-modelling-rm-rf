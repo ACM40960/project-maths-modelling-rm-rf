{
 "cells": [
  {
   "cell_type": "code",
   "execution_count": null,
   "id": "f9ca081a",
   "metadata": {},
   "outputs": [
    {
     "data": {
      "text/plain": [
       "<git.repo.base.Repo 'c:\\\\Users\\\\adars\\\\Documents\\\\UCD\\\\sem 3\\\\Automated Technical Documentation from Code Repositories\\\\notebooks\\\\test-repo\\\\.git'>"
      ]
     },
     "execution_count": 4,
     "metadata": {},
     "output_type": "execute_result"
    }
   ],
   "source": [
    "from git import Repo"
   ]
  },
  {
   "cell_type": "code",
   "execution_count": 6,
   "id": "1cd93c36",
   "metadata": {},
   "outputs": [
    {
     "data": {
      "text/plain": [
       "<git.repo.base.Repo 'c:\\\\Users\\\\adars\\\\Documents\\\\UCD\\\\sem 3\\\\Automated Technical Documentation from Code Repositories\\\\notebooks\\\\test_repo\\\\.git'>"
      ]
     },
     "execution_count": 6,
     "metadata": {},
     "output_type": "execute_result"
    }
   ],
   "source": [
    "Repo.clone_from(\"https://github.com/adarshlearnngrow/StepUpYourCareer.AI\", \"test_repo\", depth=1)"
   ]
  },
  {
   "cell_type": "code",
   "execution_count": 1,
   "id": "635e82b9",
   "metadata": {},
   "outputs": [
    {
     "ename": "SyntaxError",
     "evalue": "invalid syntax (1890717499.py, line 1)",
     "output_type": "error",
     "traceback": [
      "  \u001b[36mCell\u001b[39m\u001b[36m \u001b[39m\u001b[32mIn[1]\u001b[39m\u001b[32m, line 1\u001b[39m\n\u001b[31m    \u001b[39m\u001b[31mpip install gitpython sentence-transformers faiss-cpu \\\u001b[39m\n        ^\n\u001b[31mSyntaxError\u001b[39m\u001b[31m:\u001b[39m invalid syntax\n"
     ]
    }
   ],
   "source": [
    "pip install gitpython sentence-transformers faiss-cpu \\\n",
    "            transformers accelerate bitsandbytes \\\n",
    "            huggingface-hub tqdm"
   ]
  },
  {
   "cell_type": "code",
   "execution_count": null,
   "id": "8689fc42",
   "metadata": {},
   "outputs": [],
   "source": []
  }
 ],
 "metadata": {
  "kernelspec": {
   "display_name": "auto_doc_agent",
   "language": "python",
   "name": "python3"
  },
  "language_info": {
   "codemirror_mode": {
    "name": "ipython",
    "version": 3
   },
   "file_extension": ".py",
   "mimetype": "text/x-python",
   "name": "python",
   "nbconvert_exporter": "python",
   "pygments_lexer": "ipython3",
   "version": "3.13.3"
  }
 },
 "nbformat": 4,
 "nbformat_minor": 5
}
